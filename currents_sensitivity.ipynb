{
 "cells": [
  {
   "cell_type": "code",
   "execution_count": 3,
   "id": "41bbc965",
   "metadata": {},
   "outputs": [
    {
     "name": "stdout",
     "output_type": "stream",
     "text": [
      "Available currents:\n",
      "voltage: 5000 time points, range: [-87.865, 34.886]\n",
      "INa: 5000 time points, range: [-181.166, -0.001]\n",
      "Ito: 5000 time points, range: [-0.000, 0.383]\n",
      "ICaL: 5000 time points, range: [-4.063, -0.000]\n",
      "IKr: 5000 time points, range: [-0.001, 0.851]\n",
      "IKs: 5000 time points, range: [-0.001, 0.103]\n",
      "IK1: 5000 time points, range: [-0.034, 0.826]\n",
      "INaCa: 5000 time points, range: [-0.373, 0.012]\n",
      "INaK: 5000 time points, range: [0.097, 0.200]\n",
      "INab: 5000 time points, range: [-0.017, -0.002]\n",
      "ICab: 5000 time points, range: [-0.020, -0.001]\n",
      "IKb: 5000 time points, range: [-0.000, 0.277]\n",
      "IpCa: 5000 time points, range: [0.000, 0.000]\n",
      "INalate: 5000 time points, range: [-0.282, -0.000]\n",
      "NA: 15000 time points, range: [0.000, 0.000]\n"
     ]
    }
   ],
   "source": [
    "import numpy as np\n",
    "import matplotlib.pyplot as plt\n",
    "\n",
    "def read_currents_file(filepath):\n",
    "    # Read the file content\n",
    "    with open(filepath, 'r') as file:\n",
    "        # Read the first line to get current names\n",
    "        header_line = file.readline().strip()\n",
    "        \n",
    "        # Split the header first by semicolons, then by commas\n",
    "        current_groups = header_line.split(';')\n",
    "        current_names = []\n",
    "        for group in current_groups:\n",
    "            currents = [name.strip() for name in group.split(',')]\n",
    "            current_names.extend(currents)\n",
    "            \n",
    "        # Initialize dictionary with empty lists for each current\n",
    "        data_dict = {name: [] for name in current_names}\n",
    "        \n",
    "        # Read the rest of the lines\n",
    "        for line in file:\n",
    "            if not line.strip():  # Skip empty lines\n",
    "                continue\n",
    "            \n",
    "            # Split values by semicolon first, then comma\n",
    "            value_groups = line.strip().split(';')\n",
    "            values = []\n",
    "            for group in value_groups:\n",
    "                group_values = [float(val.strip()) for val in group.split(',') if val.strip()]\n",
    "                values.extend(group_values)\n",
    "            \n",
    "            # Add each value to corresponding current's list\n",
    "            for name, value in zip(current_names, values):\n",
    "                data_dict[name].append(value)\n",
    "    \n",
    "    # Convert lists to numpy arrays for easier manipulation\n",
    "    for name in data_dict:\n",
    "        data_dict[name] = np.array(data_dict[name])\n",
    "    \n",
    "    return data_dict\n",
    "\n",
    "# Example usage:\n",
    "filepath = 'currents_ovvr_APD_step_3.csv'\n",
    "currents_data = read_currents_file(filepath)\n",
    "\n",
    "# Print information about the data\n",
    "print(\"Available currents:\")\n",
    "for current_name, values in currents_data.items():\n",
    "    print(f\"{current_name}: {len(values)} time points, range: [{min(values):.3f}, {max(values):.3f}]\")"
   ]
  },
  {
   "cell_type": "code",
   "execution_count": 4,
   "id": "c4c8bfe7",
   "metadata": {},
   "outputs": [
    {
     "data": {
      "text/plain": [
       "[<matplotlib.lines.Line2D at 0x1ec7ecc47d0>]"
      ]
     },
     "execution_count": 4,
     "metadata": {},
     "output_type": "execute_result"
    },
    {
     "data": {
      "image/png": "[encoded data removed]",
      "text/plain": [
       "<Figure size 640x480 with 1 Axes>"
      ]
     },
     "metadata": {},
     "output_type": "display_data"
    }
   ],
   "source": [
    "# get the time step range where voltage is bigger than -\n",
    "mask =  -100< currents_data['voltage']\n",
    "plt.plot(currents_data['voltage'][mask],'-o')"
   ]
  },
  {
   "cell_type": "code",
   "execution_count": 28,
   "id": "353896b5",
   "metadata": {},
   "outputs": [],
   "source": [
    "matrix = np.zeros((len(currents_data['voltage'][mask]),len(currents_data)-2))  # Exclude voltage and NA from currents\n",
    "I_total = np.zeros(len(currents_data['voltage'][mask]))"
   ]
  },
  {
   "cell_type": "code",
   "execution_count": 29,
   "id": "b368cab4",
   "metadata": {},
   "outputs": [],
   "source": [
    "# assign currents to matrix columns\n",
    "for i, (current_name, values) in enumerate(currents_data.items()):\n",
    "    if current_name not in ['voltage', 'NA']:\n",
    "        matrix[:, i - (1 if 'voltage' in currents_data else 0) - (1 if 'NA' in currents_data else 0)] = values[mask]"
   ]
  },
  {
   "cell_type": "code",
   "execution_count": 30,
   "id": "d694e110",
   "metadata": {},
   "outputs": [],
   "source": [
    "\n",
    "# assign currents_sum to I_total columns\n",
    "for t in range(len(currents_data['voltage'][mask])):\n",
    "    I_total[t] = sum(matrix[t,:])"
   ]
  },
  {
   "cell_type": "code",
   "execution_count": 31,
   "id": "22cffa1c",
   "metadata": {},
   "outputs": [
    {
     "name": "stdout",
     "output_type": "stream",
     "text": [
      "True\n"
     ]
    }
   ],
   "source": [
    "# check if I_total = matrix*(1,1,1,1...)^T\n",
    "# mu is a vector with length equal to the number of rows in the matrix\n",
    "mu = np.ones(matrix.shape[1])\n",
    "# transpose mu\n",
    "\n",
    "# now we multiply the matrix by mu\n",
    "I_check = matrix @ mu\n",
    "print(np.allclose(I_check, I_total))  # This should print True if they are equal"
   ]
  },
  {
   "cell_type": "code",
   "execution_count": 53,
   "id": "ad35e0d6",
   "metadata": {},
   "outputs": [],
   "source": [
    "U, S, V = np.linalg.svd(matrix)"
   ]
  },
  {
   "cell_type": "code",
   "execution_count": 54,
   "id": "4fb6113e",
   "metadata": {},
   "outputs": [],
   "source": [
    "#transposeV\n",
    "Vt = V.T\n"
   ]
  },
  {
   "cell_type": "code",
   "execution_count": 55,
   "id": "12edd59f",
   "metadata": {},
   "outputs": [
    {
     "data": {
      "text/plain": [
       "array([3.23069372e+02, 4.05795024e+01, 2.40966629e+01, 1.24057354e+01,\n",
       "       5.65439509e+00, 4.93858782e+00, 2.46305205e+00, 1.55280878e+00,\n",
       "       9.12046238e-01, 5.05632665e-01, 3.46471524e-02, 6.31647922e-04,\n",
       "       1.77981632e-04])"
      ]
     },
     "execution_count": 55,
     "metadata": {},
     "output_type": "execute_result"
    }
   ],
   "source": [
    "S"
   ]
  },
  {
   "cell_type": "code",
   "execution_count": null,
   "id": "0ab63afb",
   "metadata": {},
   "outputs": [
    {
     "data": {
      "text/plain": [
       "array([[ 8.93358362e-04, -1.26374490e-02,  4.24236194e-03,\n",
       "         1.76956889e-04,  1.52338840e-04, -9.13154493e-04,\n",
       "         2.09110327e-03, -6.84812734e-05, -4.84101575e-05,\n",
       "         1.16923596e-03,  1.32289916e-06, -2.87609477e-03,\n",
       "        -9.99903291e-01],\n",
       "       [-1.20796807e-01,  7.51759734e-01, -5.60469026e-01,\n",
       "        -5.57157028e-02, -4.51682326e-02,  1.08841092e-01,\n",
       "        -1.94227079e-01,  5.54939135e-03,  4.16454096e-03,\n",
       "        -1.74466413e-01, -2.14875231e-04,  1.44103716e-01,\n",
       "        -1.31285303e-02],\n",
       "       [ 1.04189916e-01, -6.00272520e-01, -7.44924877e-01,\n",
       "        -6.96611912e-02, -1.94631545e-01,  1.16121684e-01,\n",
       "        -1.04653232e-01,  1.11041813e-02,  1.11190491e-02,\n",
       "         4.89911422e-02, -1.48210992e-04,  6.37991980e-02,\n",
       "         4.02477665e-03],\n",
       "       [-1.89089451e-02,  8.40896831e-02,  2.06664788e-01,\n",
       "         6.94583708e-02, -9.41467766e-01,  1.92931412e-01,\n",
       "        -7.93866471e-02,  2.53804434e-02,  2.97545833e-02,\n",
       "         6.13647205e-02, -1.33942689e-04, -9.92723589e-02,\n",
       "        -3.22080840e-04],\n",
       "       [ 6.44419173e-02,  1.25259974e-01, -2.21686658e-01,\n",
       "         2.04168238e-03, -2.02405203e-01, -4.56464450e-01,\n",
       "         7.95716035e-01, -1.36557937e-01, -1.54334471e-01,\n",
       "         7.77020250e-02,  8.32022641e-04, -3.28356703e-03,\n",
       "        -2.98506668e-04],\n",
       "       [ 3.26461541e-01,  1.80935984e-01, -4.96547899e-02,\n",
       "         3.18693738e-02,  1.49935862e-01,  5.50760635e-01,\n",
       "         2.26335585e-01,  2.11732585e-02,  2.51797361e-02,\n",
       "         6.86915511e-01,  3.03798428e-04, -8.49779518e-02,\n",
       "        -1.16194355e-03],\n",
       "       [ 8.16186579e-01,  1.20766834e-01,  4.35569158e-02,\n",
       "        -2.86794887e-01, -6.61371700e-02, -3.77701936e-01,\n",
       "        -2.88987553e-01,  4.49877756e-02,  4.91792817e-02,\n",
       "         4.85624395e-03, -7.86712002e-05, -9.62993085e-03,\n",
       "        -9.04656091e-04],\n",
       "       [ 1.62267995e-01, -5.95325250e-02,  1.50667214e-01,\n",
       "        -5.27758797e-01, -1.60569094e-02,  4.72723247e-01,\n",
       "         3.04187800e-01, -1.19749420e-01, -1.41037836e-01,\n",
       "        -4.50993267e-01, -2.01198151e-04,  3.39135846e-01,\n",
       "         1.57408506e-04],\n",
       "       [ 1.86166532e-01,  2.29257142e-02, -1.07674283e-01,\n",
       "         1.25070510e-01,  7.43321020e-02,  2.08077271e-01,\n",
       "         1.15660704e-01, -3.28356109e-02, -3.35448338e-02,\n",
       "        -4.29678695e-01, -4.12450424e-04, -8.29790283e-01,\n",
       "         1.39327158e-03],\n",
       "       [-3.68307812e-01,  1.43157593e-02, -1.05814488e-02,\n",
       "        -7.74011426e-01, -1.03514633e-02, -1.27710494e-01,\n",
       "        -8.75140139e-02, -1.60020090e-02, -2.71675703e-02,\n",
       "         2.92831371e-01,  1.29839452e-03, -3.92576599e-01,\n",
       "         7.14197392e-04],\n",
       "       [ 2.57662879e-02, -3.49871810e-03,  1.78589680e-02,\n",
       "         1.03318817e-01,  1.95508310e-03,  4.05179119e-03,\n",
       "        -2.51728901e-01, -5.94423093e-01, -7.48071480e-01,\n",
       "         1.08065608e-01, -4.51747506e-03, -1.71495670e-02,\n",
       "        -1.15930727e-04],\n",
       "       [ 6.17549263e-04, -1.06047878e-04,  6.64587783e-05,\n",
       "         1.61743885e-03,  5.74356148e-08,  6.12297094e-04,\n",
       "        -2.30958610e-04,  8.56835335e-02, -7.39198633e-02,\n",
       "        -1.10098231e-03,  9.93574106e-01,  1.66060550e-04,\n",
       "        -1.32193353e-06],\n",
       "       [-9.88174036e-05,  2.31036492e-05,  1.24574207e-04,\n",
       "        -2.09467585e-03,  2.33486505e-05,  5.20647765e-05,\n",
       "        -1.33232012e-02, -7.75710517e-01,  6.20702703e-01,\n",
       "         5.65045416e-03,  1.13081008e-01,  4.25861816e-04,\n",
       "         4.78259791e-07]])"
      ]
     },
     "execution_count": 56,
     "metadata": {},
     "output_type": "execute_result"
    }
   ],
   "source": [
    "V"
   ]
  },
  {
   "cell_type": "code",
   "execution_count": 101,
   "id": "fd3e1c87",
   "metadata": {},
   "outputs": [],
   "source": [
    "def projection_S(v):\n",
    "    ps = [0] * len(S)\n",
    "    for i in range(2,len(V)):\n",
    "        ps += np.inner(v,V[i]) / np.inner(V[i],V[i]) * V[i]\n",
    "    return ps\n",
    "identifiability = {}\n",
    "for i, (current_name, values) in enumerate(currents_data.items()):\n",
    "    if current_name in ['voltage', 'NA']:\n",
    "        continue\n",
    "    v_I = [0]*len(S)\n",
    "    v_I[i-2] = 1\n",
    "    k = np.linalg.norm(v_I-projection_S(v_I))\n",
    "    identifiability[current_name] = k"
   ]
  },
  {
   "cell_type": "code",
   "execution_count": 102,
   "id": "f9abc0fc",
   "metadata": {},
   "outputs": [
    {
     "data": {
      "text/plain": [
       "{'INa': np.float64(0.9999894751006916),\n",
       " 'ICaL': np.float64(0.7518659477604241),\n",
       " 'IKr': np.float64(0.5604850813081879),\n",
       " 'INaK': np.float64(0.1942383352214385),\n",
       " 'IKb': np.float64(0.1744703311444147),\n",
       " 'INalate': np.float64(0.1441324148725148),\n",
       " 'Ito': np.float64(0.12080011064809532),\n",
       " 'INaCa': np.float64(0.10884492271495684),\n",
       " 'IKs': np.float64(0.055715983826319426),\n",
       " 'IK1': np.float64(0.0451684894777352),\n",
       " 'INab': np.float64(0.005549813870315541),\n",
       " 'ICab': np.float64(0.004164822317222974),\n",
       " 'IpCa': np.float64(0.0002148793028104024)}"
      ]
     },
     "execution_count": 102,
     "metadata": {},
     "output_type": "execute_result"
    }
   ],
   "source": [
    "identifiability\n",
    "# now we sort identifiability by its value\n",
    "sorted_identifiability = dict(sorted(identifiability.items(), key=lambda item: item[1], reverse=True))\n",
    "sorted_identifiability"
   ]
  }
 ],
 "metadata": {
  "kernelspec": {
   "display_name": "ovvr_paper",
   "language": "python",
   "name": "python3"
  },
  "language_info": {
   "codemirror_mode": {
    "name": "ipython",
    "version": 3
   },
   "file_extension": ".py",
   "mimetype": "text/x-python",
   "name": "python",
   "nbconvert_exporter": "python",
   "pygments_lexer": "ipython3",
   "version": "3.13.7"
  }
 },
 "nbformat": 4,
 "nbformat_minor": 5
}
